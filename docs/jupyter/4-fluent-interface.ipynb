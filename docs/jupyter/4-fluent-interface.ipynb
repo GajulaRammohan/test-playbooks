{
 "cells": [
  {
   "cell_type": "code",
   "execution_count": null,
   "metadata": {},
   "outputs": [],
   "source": [
    "from start_session import start_session\n",
    "root, v2 = start_session()"
   ]
  },
  {
   "cell_type": "markdown",
   "metadata": {},
   "source": [
    "# Fluent Interface"
   ]
  },
  {
   "cell_type": "markdown",
   "metadata": {},
   "source": [
    "In most cases, awxkit's methods return a reference to the object being acted on. This allows methods to be chained together. For example.."
   ]
  },
  {
   "cell_type": "code",
   "execution_count": null,
   "metadata": {},
   "outputs": [],
   "source": [
    "jt = v2.job_templates.create()\n",
    "job = jt.launch().wait_until_completed()  # chain launch(), wait_until_completed()\n",
    "print(job.is_successful)"
   ]
  },
  {
   "cell_type": "markdown",
   "metadata": {},
   "source": [
    "## Helper methods"
   ]
  },
  {
   "cell_type": "markdown",
   "metadata": {},
   "source": [
    "While awxkit usually tries to mirror the API, some operations are so common that they are covered by helper methods defined in the Page class."
   ]
  },
  {
   "cell_type": "markdown",
   "metadata": {},
   "source": [
    "`InstanceGroup.add_instance`"
   ]
  },
  {
   "cell_type": "code",
   "execution_count": null,
   "metadata": {},
   "outputs": [],
   "source": [
    "ig = v2.instance_groups.create()\n",
    "instance = v2.instances.get().results.pop()\n",
    "ig.add_instance(instance)\n",
    "print([instance.id] == [i.id for i in ig.related.instances.get().results])"
   ]
  },
  {
   "cell_type": "markdown",
   "metadata": {},
   "source": [
    "`Inventory.add_host`"
   ]
  },
  {
   "cell_type": "code",
   "execution_count": null,
   "metadata": {},
   "outputs": [],
   "source": [
    "inventory = v2.inventory.create()\n",
    "host = inventory.add_host()\n",
    "print([host.id] == [h.id for h in inventory.related.hosts.get().results])"
   ]
  },
  {
   "cell_type": "markdown",
   "metadata": {},
   "source": [
    "### Behind the scenes 🔍\n",
    "\n",
    "* Since several helper methods apply to several page objects, they are implemented as mixins ([source](https://github.com/ansible/awx/tree/devel/awxkit/awxkit/api/mixins))"
   ]
  }
 ],
 "metadata": {
  "kernelspec": {
   "display_name": "Python 3",
   "language": "python",
   "name": "python3"
  },
  "language_info": {
   "codemirror_mode": {
    "name": "ipython",
    "version": 3
   },
   "file_extension": ".py",
   "mimetype": "text/x-python",
   "name": "python",
   "nbconvert_exporter": "python",
   "pygments_lexer": "ipython3",
   "version": "3.6.8"
  }
 },
 "nbformat": 4,
 "nbformat_minor": 2
}
